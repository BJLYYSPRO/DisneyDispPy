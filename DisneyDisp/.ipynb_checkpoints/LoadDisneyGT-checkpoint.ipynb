{
 "cells": [
  {
   "cell_type": "code",
   "execution_count": 16,
   "metadata": {
    "collapsed": false
   },
   "outputs": [],
   "source": [
    "import matplotlib.pyplot as plt\n",
    "%matplotlib inline\n",
    "\n",
    "import os\n",
    "import struct\n",
    "import numpy as np\n",
    "from math import ceil, floor\n",
    "\n",
    "import h5py as h5\n",
    "from numba import jit\n",
    "\n",
    "import skimage as ski\n",
    "from skimage import draw\n",
    "from skimage.color import rgb2gray\n",
    "from skimage.util import img_as_float\n",
    "\n",
    "from easyScripting import multiLoading\n",
    "\n",
    "import line_profiler\n",
    "import memory_profiler\n",
    "\n",
    "from IMGs_2_LF import convert2hdf5\n",
    "\n",
    "from skimage.io import imread\n",
    "from skimage.util import img_as_float, img_as_ubyte, img_as_uint\n",
    "from skimage.color import rgb2gray, gray2rgb"
   ]
  },
  {
   "cell_type": "code",
   "execution_count": 17,
   "metadata": {
    "collapsed": true
   },
   "outputs": [],
   "source": [
    "path = '../../lightfields/mansion_depth/mansion_depth/'\n",
    "imgs = multiLoading(directory=path, extension=\".png\")\n",
    "gts = multiLoading(directory=path, extension=\".dmap\")"
   ]
  },
  {
   "cell_type": "code",
   "execution_count": 58,
   "metadata": {
    "collapsed": false
   },
   "outputs": [],
   "source": [
    "def dmap2arr(fname):\n",
    "    with open(fname, 'rb') as f: # open file\n",
    "        b = f.read() #read bytes\n",
    "        #print(\"#bytes: {b}\".format(b=len(b)))\n",
    "        w, h = struct.unpack('<2i', b[0:8]) # width and hight\n",
    "        #print(\"width:  {w}, heigth: {h}\".format(w=w, h=h))\n",
    "        data = struct.unpack('<'+str(w*h)+'f', b[0:w*h*4]) # data\n",
    "        data = np.array(data, np.float32).reshape((w,h))\n",
    "        #print(\"dimensions: {w}x{h}\".format(w=data.shape[0], h=data.shape[1]))\n",
    "        \n",
    "    return data\n"
   ]
  },
  {
   "cell_type": "code",
   "execution_count": null,
   "metadata": {
    "collapsed": true
   },
   "outputs": [],
   "source": []
  }
 ],
 "metadata": {
  "kernelspec": {
   "display_name": "Python 3",
   "language": "python",
   "name": "python3"
  },
  "language_info": {
   "codemirror_mode": {
    "name": "ipython",
    "version": 3
   },
   "file_extension": ".py",
   "mimetype": "text/x-python",
   "name": "python",
   "nbconvert_exporter": "python",
   "pygments_lexer": "ipython3",
   "version": "3.5.1"
  }
 },
 "nbformat": 4,
 "nbformat_minor": 0
}
